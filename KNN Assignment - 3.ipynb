{
 "cells": [
  {
   "cell_type": "markdown",
   "id": "a94aa92c-1170-4da5-bffa-4487a3eabefd",
   "metadata": {},
   "source": [
    "# Q1. Write a Python code to implement the KNN classifier algorithm on load_iris dataset in sklearn.datasets."
   ]
  },
  {
   "cell_type": "code",
   "execution_count": 26,
   "id": "d4994b72-4327-4b16-9143-ddfb430e58a7",
   "metadata": {},
   "outputs": [],
   "source": [
    "import pandas as pd\n",
    "from sklearn.model_selection import train_test_split\n",
    "from sklearn.datasets import load_iris\n",
    "from sklearn.neighbors import KNeighborsClassifier\n",
    "\n",
    "classifier = KNeighborsClassifier(n_neighbors = 5,\n",
    "                                  algorithm = 'auto')\n",
    "\n",
    "data = load_iris()\n",
    "x = pd.DataFrame(data.data, columns = data.feature_names)\n",
    "y = data.target\n",
    "x_train, x_test, y_train, y_test = train_test_split(x,y,test_size = 0.2, random_state = 42)\n"
   ]
  },
  {
   "cell_type": "code",
   "execution_count": 27,
   "id": "df0d618a-c33c-48b1-88b9-36065b22edee",
   "metadata": {},
   "outputs": [
    {
     "data": {
      "text/html": [
       "<style>#sk-container-id-1 {color: black;background-color: white;}#sk-container-id-1 pre{padding: 0;}#sk-container-id-1 div.sk-toggleable {background-color: white;}#sk-container-id-1 label.sk-toggleable__label {cursor: pointer;display: block;width: 100%;margin-bottom: 0;padding: 0.3em;box-sizing: border-box;text-align: center;}#sk-container-id-1 label.sk-toggleable__label-arrow:before {content: \"▸\";float: left;margin-right: 0.25em;color: #696969;}#sk-container-id-1 label.sk-toggleable__label-arrow:hover:before {color: black;}#sk-container-id-1 div.sk-estimator:hover label.sk-toggleable__label-arrow:before {color: black;}#sk-container-id-1 div.sk-toggleable__content {max-height: 0;max-width: 0;overflow: hidden;text-align: left;background-color: #f0f8ff;}#sk-container-id-1 div.sk-toggleable__content pre {margin: 0.2em;color: black;border-radius: 0.25em;background-color: #f0f8ff;}#sk-container-id-1 input.sk-toggleable__control:checked~div.sk-toggleable__content {max-height: 200px;max-width: 100%;overflow: auto;}#sk-container-id-1 input.sk-toggleable__control:checked~label.sk-toggleable__label-arrow:before {content: \"▾\";}#sk-container-id-1 div.sk-estimator input.sk-toggleable__control:checked~label.sk-toggleable__label {background-color: #d4ebff;}#sk-container-id-1 div.sk-label input.sk-toggleable__control:checked~label.sk-toggleable__label {background-color: #d4ebff;}#sk-container-id-1 input.sk-hidden--visually {border: 0;clip: rect(1px 1px 1px 1px);clip: rect(1px, 1px, 1px, 1px);height: 1px;margin: -1px;overflow: hidden;padding: 0;position: absolute;width: 1px;}#sk-container-id-1 div.sk-estimator {font-family: monospace;background-color: #f0f8ff;border: 1px dotted black;border-radius: 0.25em;box-sizing: border-box;margin-bottom: 0.5em;}#sk-container-id-1 div.sk-estimator:hover {background-color: #d4ebff;}#sk-container-id-1 div.sk-parallel-item::after {content: \"\";width: 100%;border-bottom: 1px solid gray;flex-grow: 1;}#sk-container-id-1 div.sk-label:hover label.sk-toggleable__label {background-color: #d4ebff;}#sk-container-id-1 div.sk-serial::before {content: \"\";position: absolute;border-left: 1px solid gray;box-sizing: border-box;top: 0;bottom: 0;left: 50%;z-index: 0;}#sk-container-id-1 div.sk-serial {display: flex;flex-direction: column;align-items: center;background-color: white;padding-right: 0.2em;padding-left: 0.2em;position: relative;}#sk-container-id-1 div.sk-item {position: relative;z-index: 1;}#sk-container-id-1 div.sk-parallel {display: flex;align-items: stretch;justify-content: center;background-color: white;position: relative;}#sk-container-id-1 div.sk-item::before, #sk-container-id-1 div.sk-parallel-item::before {content: \"\";position: absolute;border-left: 1px solid gray;box-sizing: border-box;top: 0;bottom: 0;left: 50%;z-index: -1;}#sk-container-id-1 div.sk-parallel-item {display: flex;flex-direction: column;z-index: 1;position: relative;background-color: white;}#sk-container-id-1 div.sk-parallel-item:first-child::after {align-self: flex-end;width: 50%;}#sk-container-id-1 div.sk-parallel-item:last-child::after {align-self: flex-start;width: 50%;}#sk-container-id-1 div.sk-parallel-item:only-child::after {width: 0;}#sk-container-id-1 div.sk-dashed-wrapped {border: 1px dashed gray;margin: 0 0.4em 0.5em 0.4em;box-sizing: border-box;padding-bottom: 0.4em;background-color: white;}#sk-container-id-1 div.sk-label label {font-family: monospace;font-weight: bold;display: inline-block;line-height: 1.2em;}#sk-container-id-1 div.sk-label-container {text-align: center;}#sk-container-id-1 div.sk-container {/* jupyter's `normalize.less` sets `[hidden] { display: none; }` but bootstrap.min.css set `[hidden] { display: none !important; }` so we also need the `!important` here to be able to override the default hidden behavior on the sphinx rendered scikit-learn.org. See: https://github.com/scikit-learn/scikit-learn/issues/21755 */display: inline-block !important;position: relative;}#sk-container-id-1 div.sk-text-repr-fallback {display: none;}</style><div id=\"sk-container-id-1\" class=\"sk-top-container\"><div class=\"sk-text-repr-fallback\"><pre>KNeighborsClassifier()</pre><b>In a Jupyter environment, please rerun this cell to show the HTML representation or trust the notebook. <br />On GitHub, the HTML representation is unable to render, please try loading this page with nbviewer.org.</b></div><div class=\"sk-container\" hidden><div class=\"sk-item\"><div class=\"sk-estimator sk-toggleable\"><input class=\"sk-toggleable__control sk-hidden--visually\" id=\"sk-estimator-id-1\" type=\"checkbox\" checked><label for=\"sk-estimator-id-1\" class=\"sk-toggleable__label sk-toggleable__label-arrow\">KNeighborsClassifier</label><div class=\"sk-toggleable__content\"><pre>KNeighborsClassifier()</pre></div></div></div></div></div>"
      ],
      "text/plain": [
       "KNeighborsClassifier()"
      ]
     },
     "execution_count": 27,
     "metadata": {},
     "output_type": "execute_result"
    }
   ],
   "source": [
    "classifier.fit(x_train, y_train)"
   ]
  },
  {
   "cell_type": "code",
   "execution_count": 28,
   "id": "e1a3e3f0-4c36-4a85-8235-1ad2681aa19b",
   "metadata": {},
   "outputs": [],
   "source": [
    "y_pred = classifier.predict(x_test)"
   ]
  },
  {
   "cell_type": "code",
   "execution_count": 29,
   "id": "c9e3ebbc-6cac-4fcc-a223-f3930e15eb71",
   "metadata": {},
   "outputs": [
    {
     "data": {
      "text/plain": [
       "array([1, 0, 2, 1, 1, 0, 1, 2, 1, 1, 2, 0, 0, 0, 0, 1, 2, 1, 1, 2, 0, 2,\n",
       "       0, 2, 2, 2, 2, 2, 0, 0])"
      ]
     },
     "execution_count": 29,
     "metadata": {},
     "output_type": "execute_result"
    }
   ],
   "source": [
    "y_pred"
   ]
  },
  {
   "cell_type": "code",
   "execution_count": 30,
   "id": "8994881c-0144-4e35-9b45-d17d76d6912b",
   "metadata": {},
   "outputs": [
    {
     "data": {
      "text/plain": [
       "array([1, 0, 2, 1, 1, 0, 1, 2, 1, 1, 2, 0, 0, 0, 0, 1, 2, 1, 1, 2, 0, 2,\n",
       "       0, 2, 2, 2, 2, 2, 0, 0])"
      ]
     },
     "execution_count": 30,
     "metadata": {},
     "output_type": "execute_result"
    }
   ],
   "source": [
    "y_test"
   ]
  },
  {
   "cell_type": "markdown",
   "id": "91dbea24-fdd5-4460-9cc7-3a6d0bada9f9",
   "metadata": {},
   "source": [
    "# Q2. Write a Python code to implement the KNN regressor algorithm on load_boston dataset in sklearn.datasets."
   ]
  },
  {
   "cell_type": "code",
   "execution_count": 104,
   "id": "0aa63002-23c8-4580-bfb6-b2651e33c5a4",
   "metadata": {},
   "outputs": [
    {
     "data": {
      "text/html": [
       "<style>#sk-container-id-2 {color: black;background-color: white;}#sk-container-id-2 pre{padding: 0;}#sk-container-id-2 div.sk-toggleable {background-color: white;}#sk-container-id-2 label.sk-toggleable__label {cursor: pointer;display: block;width: 100%;margin-bottom: 0;padding: 0.3em;box-sizing: border-box;text-align: center;}#sk-container-id-2 label.sk-toggleable__label-arrow:before {content: \"▸\";float: left;margin-right: 0.25em;color: #696969;}#sk-container-id-2 label.sk-toggleable__label-arrow:hover:before {color: black;}#sk-container-id-2 div.sk-estimator:hover label.sk-toggleable__label-arrow:before {color: black;}#sk-container-id-2 div.sk-toggleable__content {max-height: 0;max-width: 0;overflow: hidden;text-align: left;background-color: #f0f8ff;}#sk-container-id-2 div.sk-toggleable__content pre {margin: 0.2em;color: black;border-radius: 0.25em;background-color: #f0f8ff;}#sk-container-id-2 input.sk-toggleable__control:checked~div.sk-toggleable__content {max-height: 200px;max-width: 100%;overflow: auto;}#sk-container-id-2 input.sk-toggleable__control:checked~label.sk-toggleable__label-arrow:before {content: \"▾\";}#sk-container-id-2 div.sk-estimator input.sk-toggleable__control:checked~label.sk-toggleable__label {background-color: #d4ebff;}#sk-container-id-2 div.sk-label input.sk-toggleable__control:checked~label.sk-toggleable__label {background-color: #d4ebff;}#sk-container-id-2 input.sk-hidden--visually {border: 0;clip: rect(1px 1px 1px 1px);clip: rect(1px, 1px, 1px, 1px);height: 1px;margin: -1px;overflow: hidden;padding: 0;position: absolute;width: 1px;}#sk-container-id-2 div.sk-estimator {font-family: monospace;background-color: #f0f8ff;border: 1px dotted black;border-radius: 0.25em;box-sizing: border-box;margin-bottom: 0.5em;}#sk-container-id-2 div.sk-estimator:hover {background-color: #d4ebff;}#sk-container-id-2 div.sk-parallel-item::after {content: \"\";width: 100%;border-bottom: 1px solid gray;flex-grow: 1;}#sk-container-id-2 div.sk-label:hover label.sk-toggleable__label {background-color: #d4ebff;}#sk-container-id-2 div.sk-serial::before {content: \"\";position: absolute;border-left: 1px solid gray;box-sizing: border-box;top: 0;bottom: 0;left: 50%;z-index: 0;}#sk-container-id-2 div.sk-serial {display: flex;flex-direction: column;align-items: center;background-color: white;padding-right: 0.2em;padding-left: 0.2em;position: relative;}#sk-container-id-2 div.sk-item {position: relative;z-index: 1;}#sk-container-id-2 div.sk-parallel {display: flex;align-items: stretch;justify-content: center;background-color: white;position: relative;}#sk-container-id-2 div.sk-item::before, #sk-container-id-2 div.sk-parallel-item::before {content: \"\";position: absolute;border-left: 1px solid gray;box-sizing: border-box;top: 0;bottom: 0;left: 50%;z-index: -1;}#sk-container-id-2 div.sk-parallel-item {display: flex;flex-direction: column;z-index: 1;position: relative;background-color: white;}#sk-container-id-2 div.sk-parallel-item:first-child::after {align-self: flex-end;width: 50%;}#sk-container-id-2 div.sk-parallel-item:last-child::after {align-self: flex-start;width: 50%;}#sk-container-id-2 div.sk-parallel-item:only-child::after {width: 0;}#sk-container-id-2 div.sk-dashed-wrapped {border: 1px dashed gray;margin: 0 0.4em 0.5em 0.4em;box-sizing: border-box;padding-bottom: 0.4em;background-color: white;}#sk-container-id-2 div.sk-label label {font-family: monospace;font-weight: bold;display: inline-block;line-height: 1.2em;}#sk-container-id-2 div.sk-label-container {text-align: center;}#sk-container-id-2 div.sk-container {/* jupyter's `normalize.less` sets `[hidden] { display: none; }` but bootstrap.min.css set `[hidden] { display: none !important; }` so we also need the `!important` here to be able to override the default hidden behavior on the sphinx rendered scikit-learn.org. See: https://github.com/scikit-learn/scikit-learn/issues/21755 */display: inline-block !important;position: relative;}#sk-container-id-2 div.sk-text-repr-fallback {display: none;}</style><div id=\"sk-container-id-2\" class=\"sk-top-container\"><div class=\"sk-text-repr-fallback\"><pre>KNeighborsRegressor()</pre><b>In a Jupyter environment, please rerun this cell to show the HTML representation or trust the notebook. <br />On GitHub, the HTML representation is unable to render, please try loading this page with nbviewer.org.</b></div><div class=\"sk-container\" hidden><div class=\"sk-item\"><div class=\"sk-estimator sk-toggleable\"><input class=\"sk-toggleable__control sk-hidden--visually\" id=\"sk-estimator-id-2\" type=\"checkbox\" checked><label for=\"sk-estimator-id-2\" class=\"sk-toggleable__label sk-toggleable__label-arrow\">KNeighborsRegressor</label><div class=\"sk-toggleable__content\"><pre>KNeighborsRegressor()</pre></div></div></div></div></div>"
      ],
      "text/plain": [
       "KNeighborsRegressor()"
      ]
     },
     "execution_count": 104,
     "metadata": {},
     "output_type": "execute_result"
    }
   ],
   "source": [
    "import pandas as pd\n",
    "from sklearn.neighbors import KNeighborsRegressor\n",
    "from sklearn.preprocessing import StandardScaler\n",
    "from sklearn.model_selection import train_test_split\n",
    "\n",
    "scaler = StandardScaler()\n",
    "\n",
    "regressor = KNeighborsRegressor(n_neighbors = 5,\n",
    "                               weights = 'uniform',\n",
    "                               algorithm = 'auto')\n",
    "\n",
    "df = pd.read_csv(\"HousingData.csv\")\n",
    "df.dropna(axis = 0, inplace = True)\n",
    "\n",
    "df.rename({'MEDV':'Price'}, inplace = True, axis = 1)\n",
    "x = df[['CRIM', 'ZN', 'INDUS', 'CHAS', 'NOX', 'RM', 'AGE', 'DIS', 'RAD', 'TAX','PTRATIO', 'B', 'LSTAT']]\n",
    "y = df['Price']\n",
    "\n",
    "x_train, x_test, y_train, y_test = train_test_split(x, y , test_size = 0.2, random_state = 42)\n",
    "\n",
    "transformed_x_train = scaler.fit_transform(x_train)\n",
    "transformed_x_test = scaler.fit_transform(x_test)\n",
    "\n",
    "regressor.fit(transformed_x_train, y_train)"
   ]
  },
  {
   "cell_type": "markdown",
   "id": "f6d19e92-3bdb-479f-bdcc-1fd7295d9cda",
   "metadata": {},
   "source": [
    "# Q3. Write a Python code snippet to find the optimal value of K for the KNN classifier algorithm using cross-validation on load_iris dataset in sklearn.datasets."
   ]
  },
  {
   "cell_type": "code",
   "execution_count": 26,
   "id": "0e774d50-b0d9-427b-8b30-1c3395cc9709",
   "metadata": {},
   "outputs": [
    {
     "name": "stdout",
     "output_type": "stream",
     "text": [
      "1.0\n",
      "1.0\n",
      "1.0\n",
      "1.0\n",
      "[[10  0  0]\n",
      " [ 0  9  0]\n",
      " [ 0  0 11]]\n"
     ]
    }
   ],
   "source": [
    "import pandas as pd\n",
    "from sklearn.neighbors import KNeighborsClassifier\n",
    "from sklearn.model_selection import train_test_split\n",
    "from sklearn.model_selection import GridSearchCV\n",
    "from sklearn.metrics import accuracy_score,precision_score, recall_score, f1_score, confusion_matrix\n",
    "from sklearn.datasets import load_iris\n",
    "import warnings\n",
    "\n",
    "warnings.filterwarnings(\"ignore\")\n",
    "\n",
    "iris = load_iris()\n",
    "\n",
    "\n",
    "x = pd.DataFrame(iris.data, columns = iris.feature_names)\n",
    "y = pd.DataFrame(iris.target, columns = ['species'])\n",
    "\n",
    "x_train, x_test, y_train, y_test = train_test_split(x,y,test_size = 0.2, random_state = 42)\n",
    "\n",
    "parameters = {'n_neighbors': range(1, 21)}  # Search from K=1 to K=20\n",
    "\n",
    "# Create a grid search using cross-validation\n",
    "grid_search = GridSearchCV(estimator = classifier,\n",
    "                           param_grid = parameters,\n",
    "                           cv = 5)\n",
    "\n",
    "grid_search.fit(x,y)\n",
    "\n",
    "best_param = grid_search.best_params_['n_neighbors']\n",
    "\n",
    "classifier = KNeighborsClassifier(n_neighbors = best_param,\n",
    "                                  algorithm = 'auto')\n",
    "classifier.fit(x_train, y_train)\n",
    "y_pred = classifier.predict(x_test)\n",
    "print(accuracy_score(y_test, y_pred))\n",
    "print(precision_score(y_test, y_pred, average = 'weighted'))\n",
    "print(recall_score(y_test, y_pred, average = 'weighted'))\n",
    "print(f1_score(y_test, y_pred, average = 'weighted'))\n",
    "print( confusion_matrix(y_test, y_pred))"
   ]
  },
  {
   "cell_type": "markdown",
   "id": "0ed9756e-a0cc-481e-8e7f-8791ee0e267a",
   "metadata": {},
   "source": [
    "# Q4. Implement the KNN regressor algorithm with feature scaling on load_boston dataset in sklearn.datasets."
   ]
  },
  {
   "cell_type": "code",
   "execution_count": 69,
   "id": "af34c650-02e1-4554-b432-996ea6ce4c9d",
   "metadata": {},
   "outputs": [
    {
     "data": {
      "text/plain": [
       "CRIM       20\n",
       "ZN         20\n",
       "INDUS      20\n",
       "CHAS       20\n",
       "NOX         0\n",
       "RM          0\n",
       "AGE        20\n",
       "DIS         0\n",
       "RAD         0\n",
       "TAX         0\n",
       "PTRATIO     0\n",
       "B           0\n",
       "LSTAT      20\n",
       "MEDV        0\n",
       "dtype: int64"
      ]
     },
     "execution_count": 69,
     "metadata": {},
     "output_type": "execute_result"
    }
   ],
   "source": [
    "import pandas as pd\n",
    "import numpy as np\n",
    "from sklearn.model_selection import train_test_split\n",
    "from sklearn.preprocessing import StandardScaler\n",
    "\n",
    "scaler = StandardScaler()\n",
    "\n",
    "boston = pd.read_csv(\"HousingData.csv\")\n",
    "boston.isnull().sum()"
   ]
  },
  {
   "cell_type": "code",
   "execution_count": 80,
   "id": "4ea6d81b-bfa0-473d-a3c6-2e67badb80ee",
   "metadata": {},
   "outputs": [],
   "source": [
    "boston.dropna(axis = 0, inplace = True)\n",
    "boston.rename({'MEDV' : 'Price'}, inplace = True, axis = 1)\n",
    "\n",
    "x = boston[['CRIM', 'ZN', 'INDUS', 'CHAS', 'NOX', 'RM', 'AGE', 'DIS', 'RAD', 'TAX','PTRATIO', 'B', 'LSTAT']]\n",
    "y = boston['Price']\n",
    "\n",
    "x_train, x_test, y_train, y_test = train_test_split(x,y, test_size = 0.25, random_state = 42)\n",
    "x_test_transformed = scaler.fit_transform(x_test)\n",
    "x_train_transformed = scaler.fit_transform(x_train)\n",
    "\n",
    "transformed_df_test = pd.DataFrame(x_test_transformed, columns = ['CRIM', 'ZN', 'INDUS', 'CHAS', 'NOX', 'RM', 'AGE', 'DIS', 'RAD', 'TAX','PTRATIO', 'B', 'LSTAT'])\n",
    "transformed_df_train = pd.DataFrame(x_train_transformed, columns = ['CRIM', 'ZN', 'INDUS', 'CHAS', 'NOX', 'RM', 'AGE', 'DIS', 'RAD', 'TAX','PTRATIO', 'B', 'LSTAT'])"
   ]
  },
  {
   "cell_type": "code",
   "execution_count": 79,
   "id": "5f13823e-e339-4731-a7c4-eca98f842868",
   "metadata": {},
   "outputs": [
    {
     "data": {
      "text/html": [
       "<div>\n",
       "<style scoped>\n",
       "    .dataframe tbody tr th:only-of-type {\n",
       "        vertical-align: middle;\n",
       "    }\n",
       "\n",
       "    .dataframe tbody tr th {\n",
       "        vertical-align: top;\n",
       "    }\n",
       "\n",
       "    .dataframe thead th {\n",
       "        text-align: right;\n",
       "    }\n",
       "</style>\n",
       "<table border=\"1\" class=\"dataframe\">\n",
       "  <thead>\n",
       "    <tr style=\"text-align: right;\">\n",
       "      <th></th>\n",
       "      <th>CRIM</th>\n",
       "      <th>ZN</th>\n",
       "      <th>INDUS</th>\n",
       "      <th>CHAS</th>\n",
       "      <th>NOX</th>\n",
       "      <th>RM</th>\n",
       "      <th>AGE</th>\n",
       "      <th>DIS</th>\n",
       "      <th>RAD</th>\n",
       "      <th>TAX</th>\n",
       "      <th>PTRATIO</th>\n",
       "      <th>B</th>\n",
       "      <th>LSTAT</th>\n",
       "    </tr>\n",
       "  </thead>\n",
       "  <tbody>\n",
       "    <tr>\n",
       "      <th>0</th>\n",
       "      <td>-0.288670</td>\n",
       "      <td>-0.482424</td>\n",
       "      <td>-0.446827</td>\n",
       "      <td>-0.26968</td>\n",
       "      <td>-0.164136</td>\n",
       "      <td>-0.979779</td>\n",
       "      <td>1.003925</td>\n",
       "      <td>0.005211</td>\n",
       "      <td>-0.662693</td>\n",
       "      <td>-0.610462</td>\n",
       "      <td>1.122034</td>\n",
       "      <td>0.234453</td>\n",
       "      <td>1.042751</td>\n",
       "    </tr>\n",
       "    <tr>\n",
       "      <th>1</th>\n",
       "      <td>-0.407971</td>\n",
       "      <td>-0.482424</td>\n",
       "      <td>0.241447</td>\n",
       "      <td>-0.26968</td>\n",
       "      <td>-1.027864</td>\n",
       "      <td>-0.029474</td>\n",
       "      <td>-0.553306</td>\n",
       "      <td>0.583367</td>\n",
       "      <td>-0.548569</td>\n",
       "      <td>-0.080539</td>\n",
       "      <td>0.045535</td>\n",
       "      <td>0.336972</td>\n",
       "      <td>-0.104457</td>\n",
       "    </tr>\n",
       "    <tr>\n",
       "      <th>2</th>\n",
       "      <td>-0.410462</td>\n",
       "      <td>3.550968</td>\n",
       "      <td>-1.425674</td>\n",
       "      <td>-0.26968</td>\n",
       "      <td>-1.318624</td>\n",
       "      <td>1.037107</td>\n",
       "      <td>-1.900100</td>\n",
       "      <td>1.838035</td>\n",
       "      <td>-0.776817</td>\n",
       "      <td>-0.057246</td>\n",
       "      <td>-0.750138</td>\n",
       "      <td>0.446479</td>\n",
       "      <td>-1.132714</td>\n",
       "    </tr>\n",
       "    <tr>\n",
       "      <th>3</th>\n",
       "      <td>-0.391161</td>\n",
       "      <td>0.048286</td>\n",
       "      <td>-0.486451</td>\n",
       "      <td>-0.26968</td>\n",
       "      <td>-0.283861</td>\n",
       "      <td>0.178674</td>\n",
       "      <td>0.870649</td>\n",
       "      <td>1.216857</td>\n",
       "      <td>-0.548569</td>\n",
       "      <td>-0.587168</td>\n",
       "      <td>-1.592615</td>\n",
       "      <td>0.400799</td>\n",
       "      <td>0.967416</td>\n",
       "    </tr>\n",
       "    <tr>\n",
       "      <th>4</th>\n",
       "      <td>-0.314955</td>\n",
       "      <td>-0.482424</td>\n",
       "      <td>-0.446827</td>\n",
       "      <td>-0.26968</td>\n",
       "      <td>-0.164136</td>\n",
       "      <td>-0.630951</td>\n",
       "      <td>1.070563</td>\n",
       "      <td>0.146541</td>\n",
       "      <td>-0.662693</td>\n",
       "      <td>-0.610462</td>\n",
       "      <td>1.122034</td>\n",
       "      <td>0.421866</td>\n",
       "      <td>0.892081</td>\n",
       "    </tr>\n",
       "    <tr>\n",
       "      <th>...</th>\n",
       "      <td>...</td>\n",
       "      <td>...</td>\n",
       "      <td>...</td>\n",
       "      <td>...</td>\n",
       "      <td>...</td>\n",
       "      <td>...</td>\n",
       "      <td>...</td>\n",
       "      <td>...</td>\n",
       "      <td>...</td>\n",
       "      <td>...</td>\n",
       "      <td>...</td>\n",
       "      <td>...</td>\n",
       "      <td>...</td>\n",
       "    </tr>\n",
       "    <tr>\n",
       "      <th>290</th>\n",
       "      <td>-0.408557</td>\n",
       "      <td>-0.482424</td>\n",
       "      <td>-0.982478</td>\n",
       "      <td>-0.26968</td>\n",
       "      <td>-0.925243</td>\n",
       "      <td>0.195900</td>\n",
       "      <td>-0.753220</td>\n",
       "      <td>0.471795</td>\n",
       "      <td>-0.776817</td>\n",
       "      <td>-0.959861</td>\n",
       "      <td>-0.048074</td>\n",
       "      <td>0.446479</td>\n",
       "      <td>-0.463950</td>\n",
       "    </tr>\n",
       "    <tr>\n",
       "      <th>291</th>\n",
       "      <td>-0.381126</td>\n",
       "      <td>-0.482424</td>\n",
       "      <td>1.571035</td>\n",
       "      <td>-0.26968</td>\n",
       "      <td>0.571316</td>\n",
       "      <td>0.256192</td>\n",
       "      <td>1.028476</td>\n",
       "      <td>-0.938607</td>\n",
       "      <td>-0.662693</td>\n",
       "      <td>0.146570</td>\n",
       "      <td>1.215642</td>\n",
       "      <td>0.446479</td>\n",
       "      <td>0.298652</td>\n",
       "    </tr>\n",
       "    <tr>\n",
       "      <th>292</th>\n",
       "      <td>-0.410499</td>\n",
       "      <td>-0.482424</td>\n",
       "      <td>-0.997154</td>\n",
       "      <td>-0.26968</td>\n",
       "      <td>-0.985105</td>\n",
       "      <td>-0.342414</td>\n",
       "      <td>-0.735684</td>\n",
       "      <td>2.009266</td>\n",
       "      <td>-0.776817</td>\n",
       "      <td>-0.348412</td>\n",
       "      <td>0.092339</td>\n",
       "      <td>0.329046</td>\n",
       "      <td>-0.343678</td>\n",
       "    </tr>\n",
       "    <tr>\n",
       "      <th>293</th>\n",
       "      <td>0.517495</td>\n",
       "      <td>-0.482424</td>\n",
       "      <td>1.014839</td>\n",
       "      <td>-0.26968</td>\n",
       "      <td>1.332423</td>\n",
       "      <td>-0.096943</td>\n",
       "      <td>1.024969</td>\n",
       "      <td>-0.725114</td>\n",
       "      <td>1.619787</td>\n",
       "      <td>1.480110</td>\n",
       "      <td>0.747599</td>\n",
       "      <td>0.446479</td>\n",
       "      <td>0.660789</td>\n",
       "    </tr>\n",
       "    <tr>\n",
       "      <th>294</th>\n",
       "      <td>-0.404325</td>\n",
       "      <td>-0.482424</td>\n",
       "      <td>2.122829</td>\n",
       "      <td>-0.26968</td>\n",
       "      <td>0.203590</td>\n",
       "      <td>-0.418496</td>\n",
       "      <td>0.821547</td>\n",
       "      <td>-0.808163</td>\n",
       "      <td>-0.890941</td>\n",
       "      <td>-1.303437</td>\n",
       "      <td>0.232752</td>\n",
       "      <td>0.250305</td>\n",
       "      <td>0.634356</td>\n",
       "    </tr>\n",
       "  </tbody>\n",
       "</table>\n",
       "<p>295 rows × 13 columns</p>\n",
       "</div>"
      ],
      "text/plain": [
       "         CRIM        ZN     INDUS     CHAS       NOX        RM       AGE  \\\n",
       "0   -0.288670 -0.482424 -0.446827 -0.26968 -0.164136 -0.979779  1.003925   \n",
       "1   -0.407971 -0.482424  0.241447 -0.26968 -1.027864 -0.029474 -0.553306   \n",
       "2   -0.410462  3.550968 -1.425674 -0.26968 -1.318624  1.037107 -1.900100   \n",
       "3   -0.391161  0.048286 -0.486451 -0.26968 -0.283861  0.178674  0.870649   \n",
       "4   -0.314955 -0.482424 -0.446827 -0.26968 -0.164136 -0.630951  1.070563   \n",
       "..        ...       ...       ...      ...       ...       ...       ...   \n",
       "290 -0.408557 -0.482424 -0.982478 -0.26968 -0.925243  0.195900 -0.753220   \n",
       "291 -0.381126 -0.482424  1.571035 -0.26968  0.571316  0.256192  1.028476   \n",
       "292 -0.410499 -0.482424 -0.997154 -0.26968 -0.985105 -0.342414 -0.735684   \n",
       "293  0.517495 -0.482424  1.014839 -0.26968  1.332423 -0.096943  1.024969   \n",
       "294 -0.404325 -0.482424  2.122829 -0.26968  0.203590 -0.418496  0.821547   \n",
       "\n",
       "          DIS       RAD       TAX   PTRATIO         B     LSTAT  \n",
       "0    0.005211 -0.662693 -0.610462  1.122034  0.234453  1.042751  \n",
       "1    0.583367 -0.548569 -0.080539  0.045535  0.336972 -0.104457  \n",
       "2    1.838035 -0.776817 -0.057246 -0.750138  0.446479 -1.132714  \n",
       "3    1.216857 -0.548569 -0.587168 -1.592615  0.400799  0.967416  \n",
       "4    0.146541 -0.662693 -0.610462  1.122034  0.421866  0.892081  \n",
       "..        ...       ...       ...       ...       ...       ...  \n",
       "290  0.471795 -0.776817 -0.959861 -0.048074  0.446479 -0.463950  \n",
       "291 -0.938607 -0.662693  0.146570  1.215642  0.446479  0.298652  \n",
       "292  2.009266 -0.776817 -0.348412  0.092339  0.329046 -0.343678  \n",
       "293 -0.725114  1.619787  1.480110  0.747599  0.446479  0.660789  \n",
       "294 -0.808163 -0.890941 -1.303437  0.232752  0.250305  0.634356  \n",
       "\n",
       "[295 rows x 13 columns]"
      ]
     },
     "execution_count": 79,
     "metadata": {},
     "output_type": "execute_result"
    }
   ],
   "source": [
    "transformed_df_train"
   ]
  },
  {
   "cell_type": "markdown",
   "id": "f80f3984-da1a-44de-afa9-087c0a774676",
   "metadata": {},
   "source": [
    "# Q5. Write a Python code snippet to implement the KNN classifier algorithm with weighted voting on load_iris dataset in sklearn.datasets."
   ]
  },
  {
   "cell_type": "code",
   "execution_count": 3,
   "id": "38cb68a5-7bf4-49f4-9ead-8ddf2af97f9c",
   "metadata": {},
   "outputs": [
    {
     "name": "stdout",
     "output_type": "stream",
     "text": [
      "1.0\n"
     ]
    }
   ],
   "source": [
    "import pandas as pd\n",
    "from sklearn.model_selection import train_test_split\n",
    "from sklearn.neighbors import KNeighborsClassifier\n",
    "from sklearn.datasets import load_iris\n",
    "from sklearn.metrics import accuracy_score\n",
    "iris = load_iris()\n",
    "\n",
    "x = pd.DataFrame(iris.data,columns = iris.feature_names)\n",
    "y = iris.target\n",
    "\n",
    "def custom_weight(distance):\n",
    "    epslion = 1e-6\n",
    "    return 1/(distance + epslion)\n",
    "\n",
    "x_train, x_test, y_train, y_test = train_test_split(x, y, test_size = 0.2, random_state = 42)\n",
    "classifier = KNeighborsClassifier(n_neighbors = 5,\n",
    "                                 weights =custom_weight)\n",
    "\n",
    "classifier.fit(x_train, y_train)\n",
    "y_pred = classifier.predict(x_test)\n",
    "print(accuracy_score(y_test, y_pred))"
   ]
  },
  {
   "cell_type": "markdown",
   "id": "c144c56e-a4dd-4f43-bd1f-718bb0941dff",
   "metadata": {},
   "source": [
    "# Q6. Implement a function to standardise the features before applying KNN classifier."
   ]
  },
  {
   "cell_type": "code",
   "execution_count": 63,
   "id": "5b161ba6-677c-4f37-958f-e23e01513c40",
   "metadata": {},
   "outputs": [
    {
     "name": "stdout",
     "output_type": "stream",
     "text": [
      "[ 0.32218742  1.05084413 -0.19902478 -0.9971476  -0.4461895  -1.56551222\n",
      " -2.33595869  1.08313602 -1.28859446 -1.51146927 -1.18055171 -0.08697272\n",
      " -0.62797765  0.8016418   0.96476762 -0.05431935  0.48085384 -0.10146884\n",
      "  1.90632881 -0.52708439 -1.51839898 -0.86154257  0.63241702 -0.15192546\n",
      " -0.28931252  0.49148562 -0.58100288 -1.18597105  1.22606183  0.5158356\n",
      "  0.43972545  1.28147663 -1.34508506 -0.2908104   0.29740623 -0.12180542\n",
      " -2.90428456  1.61781301  2.18018797 -1.42800659  1.41436684 -0.26837063\n",
      "  2.32073716 -0.38114093  0.10667879  0.65532219 -0.21007625 -0.78221491\n",
      " -0.66498803 -1.05797972 -0.34477492  0.27083455 -1.67099477 -1.2069834\n",
      " -0.09653764  0.56052947  0.52869801 -0.97780121 -0.89505033  0.29671078\n",
      "  0.18933224  0.08731309 -1.73749073 -0.43458306  0.2365648  -0.38475485\n",
      "  1.17232404 -0.50936745  0.63927571  0.24076178  0.33409102 -0.34851916\n",
      " -0.01771847 -0.41750373  0.39829234  0.13313101 -0.96883869  1.16127022\n",
      " -0.54509353 -0.59093433 -0.5337134  -1.12136284  0.57491586  0.2631958\n",
      " -0.76303978  1.76498616  0.21674962 -1.15722542  0.70012785  1.54703131\n",
      " -1.76149777 -1.74512186  0.12472895 -1.28470888 -1.51585792  1.22783516\n",
      "  0.8821501   0.01991502  0.63917521  0.35279719]\n"
     ]
    },
    {
     "data": {
      "text/html": [
       "<div>\n",
       "<style scoped>\n",
       "    .dataframe tbody tr th:only-of-type {\n",
       "        vertical-align: middle;\n",
       "    }\n",
       "\n",
       "    .dataframe tbody tr th {\n",
       "        vertical-align: top;\n",
       "    }\n",
       "\n",
       "    .dataframe thead th {\n",
       "        text-align: right;\n",
       "    }\n",
       "</style>\n",
       "<table border=\"1\" class=\"dataframe\">\n",
       "  <thead>\n",
       "    <tr style=\"text-align: right;\">\n",
       "      <th></th>\n",
       "      <th>0</th>\n",
       "    </tr>\n",
       "  </thead>\n",
       "  <tbody>\n",
       "    <tr>\n",
       "      <th>0</th>\n",
       "      <td>0.439298</td>\n",
       "    </tr>\n",
       "    <tr>\n",
       "      <th>1</th>\n",
       "      <td>1.169092</td>\n",
       "    </tr>\n",
       "    <tr>\n",
       "      <th>2</th>\n",
       "      <td>-0.082727</td>\n",
       "    </tr>\n",
       "    <tr>\n",
       "      <th>3</th>\n",
       "      <td>-0.882095</td>\n",
       "    </tr>\n",
       "    <tr>\n",
       "      <th>4</th>\n",
       "      <td>-0.330278</td>\n",
       "    </tr>\n",
       "    <tr>\n",
       "      <th>...</th>\n",
       "      <td>...</td>\n",
       "    </tr>\n",
       "    <tr>\n",
       "      <th>95</th>\n",
       "      <td>1.346359</td>\n",
       "    </tr>\n",
       "    <tr>\n",
       "      <th>96</th>\n",
       "      <td>1.000135</td>\n",
       "    </tr>\n",
       "    <tr>\n",
       "      <th>97</th>\n",
       "      <td>0.136554</td>\n",
       "    </tr>\n",
       "    <tr>\n",
       "      <th>98</th>\n",
       "      <td>0.756781</td>\n",
       "    </tr>\n",
       "    <tr>\n",
       "      <th>99</th>\n",
       "      <td>0.469956</td>\n",
       "    </tr>\n",
       "  </tbody>\n",
       "</table>\n",
       "<p>100 rows × 1 columns</p>\n",
       "</div>"
      ],
      "text/plain": [
       "           0\n",
       "0   0.439298\n",
       "1   1.169092\n",
       "2  -0.082727\n",
       "3  -0.882095\n",
       "4  -0.330278\n",
       "..       ...\n",
       "95  1.346359\n",
       "96  1.000135\n",
       "97  0.136554\n",
       "98  0.756781\n",
       "99  0.469956\n",
       "\n",
       "[100 rows x 1 columns]"
      ]
     },
     "execution_count": 63,
     "metadata": {},
     "output_type": "execute_result"
    }
   ],
   "source": [
    "import numpy as np\n",
    "from sklearn.preprocessing import StandardScaler\n",
    "\n",
    "standard = StandardScaler()\n",
    "\n",
    "def stand(df):\n",
    "    standard.fit(df)\n",
    "    transformed_df = pd.DataFrame(standard.transform(df))\n",
    "    return transformed_df\n",
    "    \n",
    "arr = np.random.normal(loc = 0, scale = 1, size = 100)\n",
    "print(arr)\n",
    "df = pd.DataFrame(arr)\n",
    "stand(df)"
   ]
  },
  {
   "cell_type": "markdown",
   "id": "bdbc9232-0aec-471e-a9fc-1fea8ccb2cde",
   "metadata": {},
   "source": [
    "# Q7. Write a Python function to calculate the euclidean distance between two points."
   ]
  },
  {
   "cell_type": "code",
   "execution_count": 57,
   "id": "c66479bc-02c6-42c5-9ec6-fb9b521b6c0e",
   "metadata": {},
   "outputs": [
    {
     "data": {
      "text/plain": [
       "7.0710678118654755"
      ]
     },
     "execution_count": 57,
     "metadata": {},
     "output_type": "execute_result"
    }
   ],
   "source": [
    "import numpy as np\n",
    "\n",
    "def euclidean_dist(point1, point2):\n",
    "    dist =  np.sqrt((point1[0] - point2[0])**2+ (point1[1] - point2[1])**2)\n",
    "    \n",
    "    return dist\n",
    "\n",
    "euclidean_dist([12,5], [5, 6])"
   ]
  },
  {
   "cell_type": "markdown",
   "id": "a6ec64d6-9075-4d46-933f-cd38792a4658",
   "metadata": {},
   "source": [
    "# Q8. Write a Python function to calculate the manhattan distance between two points."
   ]
  },
  {
   "cell_type": "code",
   "execution_count": 56,
   "id": "ba5aea30-6ef7-4330-af25-92370052440c",
   "metadata": {},
   "outputs": [
    {
     "data": {
      "text/plain": [
       "8"
      ]
     },
     "execution_count": 56,
     "metadata": {},
     "output_type": "execute_result"
    }
   ],
   "source": [
    "def manhattan_dist(point1, point2):\n",
    "    dist = abs(point1[0] - point2[0]) + abs(point1[1] - point2[1])\n",
    "    \n",
    "    return dist\n",
    "\n",
    "manhattan_dist([12,5], [5, 6])"
   ]
  }
 ],
 "metadata": {
  "kernelspec": {
   "display_name": "Python 3 (ipykernel)",
   "language": "python",
   "name": "python3"
  },
  "language_info": {
   "codemirror_mode": {
    "name": "ipython",
    "version": 3
   },
   "file_extension": ".py",
   "mimetype": "text/x-python",
   "name": "python",
   "nbconvert_exporter": "python",
   "pygments_lexer": "ipython3",
   "version": "3.10.8"
  }
 },
 "nbformat": 4,
 "nbformat_minor": 5
}
